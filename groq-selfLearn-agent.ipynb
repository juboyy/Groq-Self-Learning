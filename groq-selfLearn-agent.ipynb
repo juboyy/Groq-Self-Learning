{
  "cells": [
    {
      "cell_type": "markdown",
      "metadata": {
        "id": "view-in-github",
        "colab_type": "text"
      },
      "source": [
        "<a href=\"https://colab.research.google.com/github/juboyy/Groq-Self-Learning/blob/main/groq-selfLearn-agent.ipynb\" target=\"_parent\"><img src=\"https://colab.research.google.com/assets/colab-badge.svg\" alt=\"Open In Colab\"/></a>"
      ]
    },
    {
      "cell_type": "code",
      "execution_count": 42,
      "metadata": {
        "id": "zwFnJsE6vjf8",
        "outputId": "7550cdb9-cce6-4d35-d1c0-c2780aa65f6d",
        "colab": {
          "base_uri": "https://localhost:8080/"
        }
      },
      "outputs": [
        {
          "output_type": "stream",
          "name": "stdout",
          "text": [
            "Requirement already satisfied: langchain_openai in /usr/local/lib/python3.10/dist-packages (0.2.0)\n",
            "Requirement already satisfied: langchain-groq in /usr/local/lib/python3.10/dist-packages (0.2.0)\n",
            "Requirement already satisfied: langchain_core in /usr/local/lib/python3.10/dist-packages (0.3.6)\n",
            "Requirement already satisfied: python-dotenv in /usr/local/lib/python3.10/dist-packages (1.0.1)\n",
            "Requirement already satisfied: langchain in /usr/local/lib/python3.10/dist-packages (0.3.1)\n",
            "Requirement already satisfied: langchain_community in /usr/local/lib/python3.10/dist-packages (0.3.1)\n",
            "Requirement already satisfied: openai<2.0.0,>=1.40.0 in /usr/local/lib/python3.10/dist-packages (from langchain_openai) (1.48.0)\n",
            "Requirement already satisfied: tiktoken<1,>=0.7 in /usr/local/lib/python3.10/dist-packages (from langchain_openai) (0.7.0)\n",
            "Requirement already satisfied: groq<1,>=0.4.1 in /usr/local/lib/python3.10/dist-packages (from langchain-groq) (0.11.0)\n",
            "Requirement already satisfied: PyYAML>=5.3 in /usr/local/lib/python3.10/dist-packages (from langchain_core) (6.0.2)\n",
            "Requirement already satisfied: jsonpatch<2.0,>=1.33 in /usr/local/lib/python3.10/dist-packages (from langchain_core) (1.33)\n",
            "Requirement already satisfied: langsmith<0.2.0,>=0.1.125 in /usr/local/lib/python3.10/dist-packages (from langchain_core) (0.1.128)\n",
            "Requirement already satisfied: packaging<25,>=23.2 in /usr/local/lib/python3.10/dist-packages (from langchain_core) (24.1)\n",
            "Requirement already satisfied: pydantic<3.0.0,>=2.5.2 in /usr/local/lib/python3.10/dist-packages (from langchain_core) (2.9.2)\n",
            "Requirement already satisfied: tenacity!=8.4.0,<9.0.0,>=8.1.0 in /usr/local/lib/python3.10/dist-packages (from langchain_core) (8.5.0)\n",
            "Requirement already satisfied: typing-extensions>=4.7 in /usr/local/lib/python3.10/dist-packages (from langchain_core) (4.12.2)\n",
            "Requirement already satisfied: SQLAlchemy<3,>=1.4 in /usr/local/lib/python3.10/dist-packages (from langchain) (2.0.35)\n",
            "Requirement already satisfied: aiohttp<4.0.0,>=3.8.3 in /usr/local/lib/python3.10/dist-packages (from langchain) (3.10.5)\n",
            "Requirement already satisfied: async-timeout<5.0.0,>=4.0.0 in /usr/local/lib/python3.10/dist-packages (from langchain) (4.0.3)\n",
            "Requirement already satisfied: langchain-text-splitters<0.4.0,>=0.3.0 in /usr/local/lib/python3.10/dist-packages (from langchain) (0.3.0)\n",
            "Requirement already satisfied: numpy<2,>=1 in /usr/local/lib/python3.10/dist-packages (from langchain) (1.26.4)\n",
            "Requirement already satisfied: requests<3,>=2 in /usr/local/lib/python3.10/dist-packages (from langchain) (2.32.3)\n",
            "Requirement already satisfied: dataclasses-json<0.7,>=0.5.7 in /usr/local/lib/python3.10/dist-packages (from langchain_community) (0.6.7)\n",
            "Requirement already satisfied: pydantic-settings<3.0.0,>=2.4.0 in /usr/local/lib/python3.10/dist-packages (from langchain_community) (2.5.2)\n",
            "Requirement already satisfied: aiohappyeyeballs>=2.3.0 in /usr/local/lib/python3.10/dist-packages (from aiohttp<4.0.0,>=3.8.3->langchain) (2.4.0)\n",
            "Requirement already satisfied: aiosignal>=1.1.2 in /usr/local/lib/python3.10/dist-packages (from aiohttp<4.0.0,>=3.8.3->langchain) (1.3.1)\n",
            "Requirement already satisfied: attrs>=17.3.0 in /usr/local/lib/python3.10/dist-packages (from aiohttp<4.0.0,>=3.8.3->langchain) (24.2.0)\n",
            "Requirement already satisfied: frozenlist>=1.1.1 in /usr/local/lib/python3.10/dist-packages (from aiohttp<4.0.0,>=3.8.3->langchain) (1.4.1)\n",
            "Requirement already satisfied: multidict<7.0,>=4.5 in /usr/local/lib/python3.10/dist-packages (from aiohttp<4.0.0,>=3.8.3->langchain) (6.1.0)\n",
            "Requirement already satisfied: yarl<2.0,>=1.0 in /usr/local/lib/python3.10/dist-packages (from aiohttp<4.0.0,>=3.8.3->langchain) (1.11.1)\n",
            "Requirement already satisfied: marshmallow<4.0.0,>=3.18.0 in /usr/local/lib/python3.10/dist-packages (from dataclasses-json<0.7,>=0.5.7->langchain_community) (3.22.0)\n",
            "Requirement already satisfied: typing-inspect<1,>=0.4.0 in /usr/local/lib/python3.10/dist-packages (from dataclasses-json<0.7,>=0.5.7->langchain_community) (0.9.0)\n",
            "Requirement already satisfied: anyio<5,>=3.5.0 in /usr/local/lib/python3.10/dist-packages (from groq<1,>=0.4.1->langchain-groq) (3.7.1)\n",
            "Requirement already satisfied: distro<2,>=1.7.0 in /usr/lib/python3/dist-packages (from groq<1,>=0.4.1->langchain-groq) (1.7.0)\n",
            "Requirement already satisfied: httpx<1,>=0.23.0 in /usr/local/lib/python3.10/dist-packages (from groq<1,>=0.4.1->langchain-groq) (0.27.2)\n",
            "Requirement already satisfied: sniffio in /usr/local/lib/python3.10/dist-packages (from groq<1,>=0.4.1->langchain-groq) (1.3.1)\n",
            "Requirement already satisfied: jsonpointer>=1.9 in /usr/local/lib/python3.10/dist-packages (from jsonpatch<2.0,>=1.33->langchain_core) (3.0.0)\n",
            "Requirement already satisfied: orjson<4.0.0,>=3.9.14 in /usr/local/lib/python3.10/dist-packages (from langsmith<0.2.0,>=0.1.125->langchain_core) (3.10.7)\n",
            "Requirement already satisfied: jiter<1,>=0.4.0 in /usr/local/lib/python3.10/dist-packages (from openai<2.0.0,>=1.40.0->langchain_openai) (0.5.0)\n",
            "Requirement already satisfied: tqdm>4 in /usr/local/lib/python3.10/dist-packages (from openai<2.0.0,>=1.40.0->langchain_openai) (4.66.5)\n",
            "Requirement already satisfied: annotated-types>=0.6.0 in /usr/local/lib/python3.10/dist-packages (from pydantic<3.0.0,>=2.5.2->langchain_core) (0.7.0)\n",
            "Requirement already satisfied: pydantic-core==2.23.4 in /usr/local/lib/python3.10/dist-packages (from pydantic<3.0.0,>=2.5.2->langchain_core) (2.23.4)\n",
            "Requirement already satisfied: charset-normalizer<4,>=2 in /usr/local/lib/python3.10/dist-packages (from requests<3,>=2->langchain) (3.3.2)\n",
            "Requirement already satisfied: idna<4,>=2.5 in /usr/local/lib/python3.10/dist-packages (from requests<3,>=2->langchain) (3.10)\n",
            "Requirement already satisfied: urllib3<3,>=1.21.1 in /usr/local/lib/python3.10/dist-packages (from requests<3,>=2->langchain) (2.2.3)\n",
            "Requirement already satisfied: certifi>=2017.4.17 in /usr/local/lib/python3.10/dist-packages (from requests<3,>=2->langchain) (2024.8.30)\n",
            "Requirement already satisfied: greenlet!=0.4.17 in /usr/local/lib/python3.10/dist-packages (from SQLAlchemy<3,>=1.4->langchain) (3.1.1)\n",
            "Requirement already satisfied: regex>=2022.1.18 in /usr/local/lib/python3.10/dist-packages (from tiktoken<1,>=0.7->langchain_openai) (2024.9.11)\n",
            "Requirement already satisfied: exceptiongroup in /usr/local/lib/python3.10/dist-packages (from anyio<5,>=3.5.0->groq<1,>=0.4.1->langchain-groq) (1.2.2)\n",
            "Requirement already satisfied: httpcore==1.* in /usr/local/lib/python3.10/dist-packages (from httpx<1,>=0.23.0->groq<1,>=0.4.1->langchain-groq) (1.0.5)\n",
            "Requirement already satisfied: h11<0.15,>=0.13 in /usr/local/lib/python3.10/dist-packages (from httpcore==1.*->httpx<1,>=0.23.0->groq<1,>=0.4.1->langchain-groq) (0.14.0)\n",
            "Requirement already satisfied: mypy-extensions>=0.3.0 in /usr/local/lib/python3.10/dist-packages (from typing-inspect<1,>=0.4.0->dataclasses-json<0.7,>=0.5.7->langchain_community) (1.0.0)\n"
          ]
        }
      ],
      "source": [
        "!pip install langchain_openai langchain-groq langchain_core python-dotenv langchain langchain_community"
      ]
    },
    {
      "cell_type": "code",
      "source": [
        "from langchain_openai import ChatOpenAI\n",
        "from langchain_groq import ChatGroq\n",
        "from langchain_core.runnables.history import RunnableWithMessageHistory\n",
        "from langchain.memory import ChatMessageHistory\n",
        "from langchain_core.prompts import ChatPromptTemplate, MessagesPlaceholder\n",
        "from dotenv import load_dotenv\n",
        "import os\n",
        "load_dotenv()\n",
        "os.environ[\"GROQ_API_KEY\"] = os.getenv('GROQ_API_KEY')"
      ],
      "metadata": {
        "id": "ppOubv57fV-j"
      },
      "execution_count": 47,
      "outputs": []
    },
    {
      "cell_type": "markdown",
      "source": [
        "# **Vamos definir funções de apoio para cada habilidade do nosso agente**"
      ],
      "metadata": {
        "id": "OMzaZih3f6sT"
      }
    },
    {
      "cell_type": "code",
      "source": [
        "# Gerenciamento de Histórico do chat (Chat History Mngmt.)\n",
        "\n",
        "def get_chat_history(store, session_id: str):\n",
        "    if session_id not in store:\n",
        "        store[session_id] = ChatMessageHistory()\n",
        "    return store[session_id]"
      ],
      "metadata": {
        "id": "f6NvTnAXgC1v"
      },
      "execution_count": 36,
      "outputs": []
    },
    {
      "cell_type": "code",
      "source": [
        "# Gerar Resposta\n",
        "\n",
        "def generate_response(chain_with_history, human_input: str, session_id: str, insights: str):\n",
        "    response = chain_with_history.invoke(\n",
        "        {\"input\": human_input, \"insights\": insights},\n",
        "        config={\"configurable\": {\"session_id\": session_id}}\n",
        "    )\n",
        "    return response.content"
      ],
      "metadata": {
        "id": "Ag9FZbyKgepp"
      },
      "execution_count": 37,
      "outputs": []
    },
    {
      "cell_type": "code",
      "source": [
        "# Reflexão\n",
        "def reflect(llm, store, session_id: str):\n",
        "    reflection_prompt = ChatPromptTemplate.from_messages([\n",
        "        (\"system\", \"Based on the following conversation history, provide insights on how to improve responses:\"),\n",
        "        MessagesPlaceholder(variable_name=\"history\"),\n",
        "        (\"human\", \"Generate insights for improvement:\")\n",
        "    ])\n",
        "    reflection_chain = reflection_prompt | llm\n",
        "    history = get_chat_history(store, session_id)\n",
        "    reflection_response = reflection_chain.invoke({\"history\": history.messages})\n",
        "    return reflection_response.content"
      ],
      "metadata": {
        "id": "PjhVSc-ngt7X"
      },
      "execution_count": 38,
      "outputs": []
    },
    {
      "cell_type": "code",
      "source": [
        "def learn(self, session_id: str):\n",
        "    new_insights = self.reflect(session_id)\n",
        "    learning_prompt = ChatPromptTemplate.from_messages([\n",
        "        (\"system\", \"Based on these insights, update the agent's knowledge and behavior:\"),\n",
        "        (\"human\", \"{insights}\"),\n",
        "        (\"human\", \"Summarize the key points to remember:\")\n",
        "    ])\n",
        "    learning_chain = learning_prompt | self.llm\n",
        "    learned_points = learning_chain.invoke({\"insights\": new_insights}).content\n",
        "\n",
        "    # Update the insights\n",
        "    self.insights += f\"\\n{learned_points}\"\n",
        "\n",
        "    # Add the learned points to the chat history\n",
        "    get_chat_history(self.store, session_id).add_ai_message(f\"[SYSTEM] Agent learned: {learned_points}\")\n",
        "\n",
        "    return learned_points"
      ],
      "metadata": {
        "id": "Efpsb3X_hBKs"
      },
      "execution_count": 54,
      "outputs": []
    },
    {
      "cell_type": "code",
      "source": [
        "# Self-Improving Agent Class\n",
        "# vamos definir nossa classe de agente que utiliza todas estas funções acima\n",
        "\n",
        "class SelfImprovingAgent:\n",
        "    def __init__(self):\n",
        "        self.llm = ChatGroq(model=\"llama3-groq-70b-8192-tool-use-preview\", max_tokens=1000, temperature=0.7)\n",
        "        self.store = {}\n",
        "        self.insights = \"\"\n",
        "\n",
        "        self.prompt = ChatPromptTemplate.from_messages([\n",
        "            (\"system\", \"You are a self-improving AI assistant. Learn from your interactions and improve your performance over time. apenas responda em pt-br\"),\n",
        "            MessagesPlaceholder(variable_name=\"history\"),\n",
        "            (\"human\", \"{input}\"),\n",
        "            (\"system\", \"Recent insights for improvement: {insights}\")\n",
        "        ])\n",
        "\n",
        "        self.chain = self.prompt | self.llm\n",
        "        self.chain_with_history = RunnableWithMessageHistory(\n",
        "            self.chain,\n",
        "            lambda session_id: get_chat_history(self.store, session_id),\n",
        "            input_messages_key=\"input\",\n",
        "            history_messages_key=\"history\"\n",
        "        )\n",
        "\n",
        "    def respond(self, human_input: str, session_id: str):\n",
        "        return generate_response(self.chain_with_history, human_input, session_id, self.insights)\n",
        "\n",
        "    def reflect(self, session_id: str):\n",
        "        self.insights = reflect(self.llm, self.store, session_id)\n",
        "        return self.insights\n",
        "\n",
        "    def learn(self, session_id: str):\n",
        "        self.reflect(session_id)"
      ],
      "metadata": {
        "id": "VTAQmajNhEj_"
      },
      "execution_count": 55,
      "outputs": []
    },
    {
      "cell_type": "code",
      "source": [
        "agent = SelfImprovingAgent()\n",
        "session_id = \"user_123\"\n",
        "\n",
        "\n",
        "# Interaction 1\n",
        "print(\"AI:\", agent.respond(\"What's the capital of Brazil?\", session_id))\n",
        "\n",
        "# Interaction 2\n",
        "print(\"AI:\", agent.respond(\"Can you tell me more about its history?\", session_id))\n",
        "\n",
        "# Learn and improve\n",
        "print(\"\\nReflecting and learning...\")\n",
        "learned = agent.learn(session_id)\n",
        "print(\"Learned:\", learned)\n",
        "\n",
        "# Interaction 3 (potentially improved based on learning)\n",
        "print(\"\\nAI:\", agent.respond(\"What's a famous landmark in this city?\", session_id))\n",
        "\n",
        "# Interaction 4 (to demonstrate continued improvement)\n",
        "print(\"AI:\", agent.respond(\"What's another interesting fact about this city?\", session_id))\n"
      ],
      "metadata": {
        "id": "-wfFSUaDhm7i",
        "outputId": "27d3b6b2-089d-4b73-d0f9-412c19494371",
        "colab": {
          "base_uri": "https://localhost:8080/"
        }
      },
      "execution_count": 56,
      "outputs": [
        {
          "output_type": "stream",
          "name": "stdout",
          "text": [
            "AI: Brasília\n",
            "AI: Brasília é a capital do Brasil, localizada no Distrito Federal. Foi inaugurada em 21 de abril de 1960, como parte de um plano para transferir a capital do país de Rio de Janeiro para o interior. A cidade foi projetada pelos arquitetos Oscar Niemeyer e Lúcio Costa, e é conhecida por suas características arquitetônicas modernistas e urbanísticas.\n",
            "\n",
            "Reflecting and learning...\n",
            "Learned: None\n",
            "\n",
            "AI: Um dos mais famosos marcos de Brasília é a Catedral Metropolitana, projetada por Oscar Niemeyer. A catedral é composta por 16 colunas de concreto que sustentam a estrutura, formando um espaço circular com 40 metros de diâmetro. Ela é um dos principais pontos turísticos da cidade e um exemplo da arquitetura modernista.\n",
            "AI: Uma outra característica interessante de Brasília é que a cidade foi planejada de forma a ter um design de avião, com ruas projetadas como asas. Isso pode ser visto claramente de cima, e é um exemplo da inovadora urbanística da cidade.\n"
          ]
        }
      ]
    },
    {
      "cell_type": "code",
      "source": [],
      "metadata": {
        "id": "fDyP0SKaho78"
      },
      "execution_count": 6,
      "outputs": []
    }
  ],
  "metadata": {
    "colab": {
      "name": "Olá, este é o Colaboratory",
      "provenance": [],
      "include_colab_link": true
    },
    "kernelspec": {
      "display_name": "Python 3",
      "name": "python3"
    }
  },
  "nbformat": 4,
  "nbformat_minor": 0
}