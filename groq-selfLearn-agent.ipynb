{
  "cells": [
    {
      "cell_type": "markdown",
      "metadata": {
        "id": "view-in-github",
        "colab_type": "text"
      },
      "source": [
        "<a href=\"https://colab.research.google.com/github/juboyy/Groq-Self-Learning/blob/main/groq-selfLearn-agent.ipynb\" target=\"_parent\"><img src=\"https://colab.research.google.com/assets/colab-badge.svg\" alt=\"Open In Colab\"/></a>"
      ]
    },
    {
      "cell_type": "code",
      "execution_count": 30,
      "metadata": {
        "id": "zwFnJsE6vjf8",
        "outputId": "8575c940-dac8-4cc6-b3f4-31ed5800da3d",
        "colab": {
          "base_uri": "https://localhost:8080/"
        },
        "collapsed": true
      },
      "outputs": [
        {
          "output_type": "stream",
          "name": "stdout",
          "text": [
            "Requirement already satisfied: langchain_openai in /usr/local/lib/python3.10/dist-packages (0.2.1)\n",
            "Requirement already satisfied: langchain-groq in /usr/local/lib/python3.10/dist-packages (0.2.0)\n",
            "Requirement already satisfied: langchain_core in /usr/local/lib/python3.10/dist-packages (0.3.6)\n",
            "Requirement already satisfied: python-dotenv in /usr/local/lib/python3.10/dist-packages (1.0.1)\n",
            "Requirement already satisfied: langchain in /usr/local/lib/python3.10/dist-packages (0.3.1)\n",
            "Requirement already satisfied: langchain_community in /usr/local/lib/python3.10/dist-packages (0.3.1)\n",
            "Requirement already satisfied: openai<2.0.0,>=1.40.0 in /usr/local/lib/python3.10/dist-packages (from langchain_openai) (1.48.0)\n",
            "Requirement already satisfied: tiktoken<1,>=0.7 in /usr/local/lib/python3.10/dist-packages (from langchain_openai) (0.7.0)\n",
            "Requirement already satisfied: groq<1,>=0.4.1 in /usr/local/lib/python3.10/dist-packages (from langchain-groq) (0.11.0)\n",
            "Requirement already satisfied: PyYAML>=5.3 in /usr/local/lib/python3.10/dist-packages (from langchain_core) (6.0.2)\n",
            "Requirement already satisfied: jsonpatch<2.0,>=1.33 in /usr/local/lib/python3.10/dist-packages (from langchain_core) (1.33)\n",
            "Requirement already satisfied: langsmith<0.2.0,>=0.1.125 in /usr/local/lib/python3.10/dist-packages (from langchain_core) (0.1.128)\n",
            "Requirement already satisfied: packaging<25,>=23.2 in /usr/local/lib/python3.10/dist-packages (from langchain_core) (24.1)\n",
            "Requirement already satisfied: pydantic<3.0.0,>=2.5.2 in /usr/local/lib/python3.10/dist-packages (from langchain_core) (2.9.2)\n",
            "Requirement already satisfied: tenacity!=8.4.0,<9.0.0,>=8.1.0 in /usr/local/lib/python3.10/dist-packages (from langchain_core) (8.5.0)\n",
            "Requirement already satisfied: typing-extensions>=4.7 in /usr/local/lib/python3.10/dist-packages (from langchain_core) (4.12.2)\n",
            "Requirement already satisfied: SQLAlchemy<3,>=1.4 in /usr/local/lib/python3.10/dist-packages (from langchain) (2.0.35)\n",
            "Requirement already satisfied: aiohttp<4.0.0,>=3.8.3 in /usr/local/lib/python3.10/dist-packages (from langchain) (3.10.5)\n",
            "Requirement already satisfied: async-timeout<5.0.0,>=4.0.0 in /usr/local/lib/python3.10/dist-packages (from langchain) (4.0.3)\n",
            "Requirement already satisfied: langchain-text-splitters<0.4.0,>=0.3.0 in /usr/local/lib/python3.10/dist-packages (from langchain) (0.3.0)\n",
            "Requirement already satisfied: numpy<2,>=1 in /usr/local/lib/python3.10/dist-packages (from langchain) (1.26.4)\n",
            "Requirement already satisfied: requests<3,>=2 in /usr/local/lib/python3.10/dist-packages (from langchain) (2.32.3)\n",
            "Requirement already satisfied: dataclasses-json<0.7,>=0.5.7 in /usr/local/lib/python3.10/dist-packages (from langchain_community) (0.6.7)\n",
            "Requirement already satisfied: pydantic-settings<3.0.0,>=2.4.0 in /usr/local/lib/python3.10/dist-packages (from langchain_community) (2.5.2)\n",
            "Requirement already satisfied: aiohappyeyeballs>=2.3.0 in /usr/local/lib/python3.10/dist-packages (from aiohttp<4.0.0,>=3.8.3->langchain) (2.4.0)\n",
            "Requirement already satisfied: aiosignal>=1.1.2 in /usr/local/lib/python3.10/dist-packages (from aiohttp<4.0.0,>=3.8.3->langchain) (1.3.1)\n",
            "Requirement already satisfied: attrs>=17.3.0 in /usr/local/lib/python3.10/dist-packages (from aiohttp<4.0.0,>=3.8.3->langchain) (24.2.0)\n",
            "Requirement already satisfied: frozenlist>=1.1.1 in /usr/local/lib/python3.10/dist-packages (from aiohttp<4.0.0,>=3.8.3->langchain) (1.4.1)\n",
            "Requirement already satisfied: multidict<7.0,>=4.5 in /usr/local/lib/python3.10/dist-packages (from aiohttp<4.0.0,>=3.8.3->langchain) (6.1.0)\n",
            "Requirement already satisfied: yarl<2.0,>=1.0 in /usr/local/lib/python3.10/dist-packages (from aiohttp<4.0.0,>=3.8.3->langchain) (1.11.1)\n",
            "Requirement already satisfied: marshmallow<4.0.0,>=3.18.0 in /usr/local/lib/python3.10/dist-packages (from dataclasses-json<0.7,>=0.5.7->langchain_community) (3.22.0)\n",
            "Requirement already satisfied: typing-inspect<1,>=0.4.0 in /usr/local/lib/python3.10/dist-packages (from dataclasses-json<0.7,>=0.5.7->langchain_community) (0.9.0)\n",
            "Requirement already satisfied: anyio<5,>=3.5.0 in /usr/local/lib/python3.10/dist-packages (from groq<1,>=0.4.1->langchain-groq) (3.7.1)\n",
            "Requirement already satisfied: distro<2,>=1.7.0 in /usr/lib/python3/dist-packages (from groq<1,>=0.4.1->langchain-groq) (1.7.0)\n",
            "Requirement already satisfied: httpx<1,>=0.23.0 in /usr/local/lib/python3.10/dist-packages (from groq<1,>=0.4.1->langchain-groq) (0.27.2)\n",
            "Requirement already satisfied: sniffio in /usr/local/lib/python3.10/dist-packages (from groq<1,>=0.4.1->langchain-groq) (1.3.1)\n",
            "Requirement already satisfied: jsonpointer>=1.9 in /usr/local/lib/python3.10/dist-packages (from jsonpatch<2.0,>=1.33->langchain_core) (3.0.0)\n",
            "Requirement already satisfied: orjson<4.0.0,>=3.9.14 in /usr/local/lib/python3.10/dist-packages (from langsmith<0.2.0,>=0.1.125->langchain_core) (3.10.7)\n",
            "Requirement already satisfied: jiter<1,>=0.4.0 in /usr/local/lib/python3.10/dist-packages (from openai<2.0.0,>=1.40.0->langchain_openai) (0.5.0)\n",
            "Requirement already satisfied: tqdm>4 in /usr/local/lib/python3.10/dist-packages (from openai<2.0.0,>=1.40.0->langchain_openai) (4.66.5)\n",
            "Requirement already satisfied: annotated-types>=0.6.0 in /usr/local/lib/python3.10/dist-packages (from pydantic<3.0.0,>=2.5.2->langchain_core) (0.7.0)\n",
            "Requirement already satisfied: pydantic-core==2.23.4 in /usr/local/lib/python3.10/dist-packages (from pydantic<3.0.0,>=2.5.2->langchain_core) (2.23.4)\n",
            "Requirement already satisfied: charset-normalizer<4,>=2 in /usr/local/lib/python3.10/dist-packages (from requests<3,>=2->langchain) (3.3.2)\n",
            "Requirement already satisfied: idna<4,>=2.5 in /usr/local/lib/python3.10/dist-packages (from requests<3,>=2->langchain) (3.10)\n",
            "Requirement already satisfied: urllib3<3,>=1.21.1 in /usr/local/lib/python3.10/dist-packages (from requests<3,>=2->langchain) (2.2.3)\n",
            "Requirement already satisfied: certifi>=2017.4.17 in /usr/local/lib/python3.10/dist-packages (from requests<3,>=2->langchain) (2024.8.30)\n",
            "Requirement already satisfied: greenlet!=0.4.17 in /usr/local/lib/python3.10/dist-packages (from SQLAlchemy<3,>=1.4->langchain) (3.1.1)\n",
            "Requirement already satisfied: regex>=2022.1.18 in /usr/local/lib/python3.10/dist-packages (from tiktoken<1,>=0.7->langchain_openai) (2024.9.11)\n",
            "Requirement already satisfied: exceptiongroup in /usr/local/lib/python3.10/dist-packages (from anyio<5,>=3.5.0->groq<1,>=0.4.1->langchain-groq) (1.2.2)\n",
            "Requirement already satisfied: httpcore==1.* in /usr/local/lib/python3.10/dist-packages (from httpx<1,>=0.23.0->groq<1,>=0.4.1->langchain-groq) (1.0.5)\n",
            "Requirement already satisfied: h11<0.15,>=0.13 in /usr/local/lib/python3.10/dist-packages (from httpcore==1.*->httpx<1,>=0.23.0->groq<1,>=0.4.1->langchain-groq) (0.14.0)\n",
            "Requirement already satisfied: mypy-extensions>=0.3.0 in /usr/local/lib/python3.10/dist-packages (from typing-inspect<1,>=0.4.0->dataclasses-json<0.7,>=0.5.7->langchain_community) (1.0.0)\n",
            "\u001b[31mERROR: Operation cancelled by user\u001b[0m\u001b[31m\n",
            "\u001b[0m"
          ]
        }
      ],
      "source": [
        "# pip é como uma loja de aplicativos, mas em vez de baixar apps, ele baixa ferramentas e componentes que os programadores usam para construir programas.\n",
        "# !pip install é o comando que usamos para dizer ao Python: \"Baixe e instale essas ferramentas para mim, por favor!\"\n",
        "# Neste caso específico, estamos pedindo para instalar várias ferramentas relacionadas à criação de programas de Inteligência Artificial (IA) e automação, aqui é onde você instala seus modelos.\n",
        "\n",
        "!pip install langchain_openai langchain-google-genai langchain-groq langchain_core python-dotenv langchain langchain_community"
      ]
    },
    {
      "cell_type": "markdown",
      "source": [
        "\n",
        "\n",
        "---\n",
        "\n",
        "\n",
        "### **1. Importações de Ferramentas**\n",
        "**ChatGroq**: Estes são como \"conversadores de IA\" que podem responder a perguntas ou ajudar a realizar tarefas com inteligência artificial. Eles permitem conectar e conversar com sistemas de IA diferentes, como o ChatGPT (OpenAI) e o modelo Groq.\n",
        "\n",
        "  **`ChatMessageHistory`**: Mantém um histórico das conversas, como se fosse um diário de tudo o que foi discutido até agora com o \"conversador de IA\".\n",
        "\n",
        "  **`ChatPromptTemplate`** e **`MessagesPlaceholder`**: Estas são ferramentas para formatar mensagens e diálogos que você terá com a IA, ajudando a configurar como a conversa deve acontecer.\n",
        "\n",
        "\n",
        "---\n",
        "\n",
        "\n",
        "### **2. Carregar Variáveis de Configuração**\n",
        "`from dotenv import load_dotenv`: Esta ferramenta permite carregar informações confidenciais (como senhas ou chaves de acesso) de um arquivo seguro, para que o código possa usá-las sem expor esses dados diretamente.\n",
        "`os.environ[\"GROQ_API_KEY\"]`: Configura a chave de acesso para o sistema de IA Groq. Isso é como dizer à IA: \"Aqui está minha chave; agora podemos conversar.\"\n",
        "\n",
        "\n",
        "---\n",
        "\n"
      ],
      "metadata": {
        "id": "uOaYxjMFo5o2"
      }
    },
    {
      "cell_type": "code",
      "source": [
        "from langchain_groq import ChatGroq\n",
        "from langchain_core.runnables.history import RunnableWithMessageHistory\n",
        "from langchain.memory import ChatMessageHistory\n",
        "from langchain_core.prompts import ChatPromptTemplate, MessagesPlaceholder\n",
        "from dotenv import load_dotenv\n",
        "import os\n",
        "load_dotenv()\n",
        "os.environ[\"GROQ_API_KEY\"] = os.getenv('GROQ_API_KEY')"
      ],
      "metadata": {
        "id": "ppOubv57fV-j"
      },
      "execution_count": 5,
      "outputs": []
    },
    {
      "cell_type": "markdown",
      "source": [
        "## **Vamos definir funções de apoio para cada habilidade do nosso agente**"
      ],
      "metadata": {
        "id": "OMzaZih3f6sT"
      }
    },
    {
      "cell_type": "markdown",
      "source": [
        "Esta função obtém o histórico de conversas para uma sessão específica.\n",
        "    \n",
        "Parâmetros:\n",
        "- store: Um dicionário que guarda os históricos de conversa para diferentes sessões.\n",
        "- session_id: Uma string que identifica de forma única uma sessão de usuário.\n",
        "    \n",
        "Retorna:\n",
        "- O histórico de mensagens associado ao session_id fornecido.\n",
        "  Se não existir um histórico para essa sessão, ele cria um novo."
      ],
      "metadata": {
        "id": "u2UgvHaZ7fud"
      }
    },
    {
      "cell_type": "code",
      "source": [
        "# Gerenciamento de Histórico do chat\n",
        "\n",
        "def get_chat_history(store, session_id: str):\n",
        "    if session_id not in store:\n",
        "        store[session_id] = ChatMessageHistory()\n",
        "    return store[session_id]"
      ],
      "metadata": {
        "id": "f6NvTnAXgC1v"
      },
      "execution_count": 6,
      "outputs": []
    },
    {
      "cell_type": "markdown",
      "source": [
        "\n",
        "Esta função gera uma resposta com base na entrada do usuário e em informações adicionais.\n",
        "\n",
        "Parâmetros:\n",
        "- chain_with_history: Um objeto que mantém o histórico da conversa.\n",
        "- human_input (str): A mensagem que o usuário enviou.\n",
        "- session_id (str): Um identificador único para acompanhar a sessão do usuário.\n",
        "- insights (str): Informações que ajudam a melhorar a resposta.\n",
        "\n",
        "Retorna:\n",
        "- A resposta gerada como uma string.\n"
      ],
      "metadata": {
        "id": "10haT6lT7oQY"
      }
    },
    {
      "cell_type": "code",
      "source": [
        "# Gerar Resposta\n",
        "\n",
        "def generate_response(chain_with_history, human_input: str, session_id: str, insights: str):\n",
        "    response = chain_with_history.invoke(\n",
        "        {\"input\": human_input, \"insights\": insights},\n",
        "        config={\"configurable\": {\"session_id\": session_id}}\n",
        "    )\n",
        "    return response.content"
      ],
      "metadata": {
        "id": "Ag9FZbyKgepp"
      },
      "execution_count": 7,
      "outputs": []
    },
    {
      "cell_type": "markdown",
      "source": [
        "Esta função analisa o histórico de conversas e fornece insights para melhorar as respostas.\n",
        "\n",
        "Parâmetros:\n",
        "- llm: Modelo de linguagem utilizado para gerar a reflexão.\n",
        "- store: Dicionário que armazena o histórico das conversas.\n",
        "- session_id: Identificador único da sessão.\n",
        "\n",
        "Retorna:\n",
        "- Conteúdo da reflexão gerada."
      ],
      "metadata": {
        "id": "pd0lluQV8n8R"
      }
    },
    {
      "cell_type": "code",
      "source": [
        "# Reflexão\n",
        "def reflect(llm, store, session_id: str):\n",
        "    reflection_prompt = ChatPromptTemplate.from_messages([\n",
        "        (\"system\", \"Based on the following conversation history, provide insights on how to improve responses:\"),\n",
        "        MessagesPlaceholder(variable_name=\"history\"),\n",
        "        (\"human\", \"Generate insights for improvement:\")\n",
        "    ])\n",
        "    reflection_chain = reflection_prompt | llm\n",
        "    history = get_chat_history(store, session_id)\n",
        "    reflection_response = reflection_chain.invoke({\"history\": history.messages})\n",
        "    return reflection_response.content"
      ],
      "metadata": {
        "id": "PjhVSc-ngt7X"
      },
      "execution_count": 8,
      "outputs": []
    },
    {
      "cell_type": "markdown",
      "source": [
        "Esta função ajuda o agente a aprender com base em insights fornecidos.\n",
        "Ela cria um prompt que instrui o agente a atualizar seu conhecimento e comportamento com base nesses insights,\n",
        "resume os 10 pontos-chave relevantes e realiza uma pesquisa básica sobre cada tópico.\n",
        "\n",
        "Em seguida, o agente adiciona uma mensagem ao histórico da conversa indicando o que foi aprendido."
      ],
      "metadata": {
        "id": "nYPJRidd8tYl"
      }
    },
    {
      "cell_type": "code",
      "source": [
        "# Aprendizado\n",
        "def learn(llm, store, session_id: str, insights: str):\n",
        "    learning_prompt = ChatPromptTemplate.from_messages([\n",
        "        (\"system\", \"Based on these insights, update the agent's knowledge and behavior:\"),\n",
        "        (\"human\", \"{insights}\"),\n",
        "        (\"human\", \"Summarize the 10 relevant key points to remember and provide a basic research about each topic:\")\n",
        "    ])\n",
        "    learning_chain = learning_prompt | llm\n",
        "    learned_points = learning_chain.invoke({\"insights\": insights}).content\n",
        "    get_chat_history(store, session_id).add_ai_message(f\"[SYSTEM] Agent learned: {learned_points}\")\n",
        "    return learned_points"
      ],
      "metadata": {
        "id": "Efpsb3X_hBKs"
      },
      "execution_count": 24,
      "outputs": []
    },
    {
      "cell_type": "markdown",
      "source": [
        " A classe SelfImprovingAgent é uma implementação de um agente de IA auto-aprimorável em Python.\n",
        " Ela utiliza um modelo de linguagem (LLM) da Groq para processar e gerar respostas.\n",
        "\n",
        " A classe é inicializada com um LLM, um dicionário para armazenar o histórico de conversas e uma string para insights.\n",
        "\n",
        " O prompt do agente é configurado para aprender e melhorar ao longo do tempo, respondendo em português.\n",
        "\n",
        " A classe usa um sistema de cadeia (chain) para processar as entradas, que inclui o histórico da conversa.\n",
        "\n",
        " Os métodos principais são: 'respond' para gerar respostas, 'reflect' para analisar o histórico e gerar insights, e 'learn' para aplicar esses insights e melhorar o desempenho do agente.\n",
        "\n",
        " Esta estrutura permite que o agente melhore continuamente suas respostas com base em interações anteriores.\n"
      ],
      "metadata": {
        "id": "YJ9zfG_I84O2"
      }
    },
    {
      "cell_type": "code",
      "source": [
        "# Auto-aprendizado Agent Class\n",
        "# vamos definir nossa classe de agente que utiliza todas estas funções acima\n",
        "\n",
        "class SelfImprovingAgent:\n",
        "    def __init__(self):\n",
        "        self.llm = ChatGroq(model=\"llama3-groq-70b-8192-tool-use-preview\", max_tokens=2000, temperature=0.7)\n",
        "        self.store = {}\n",
        "        self.insights = \"\"\n",
        "\n",
        "        self.prompt = ChatPromptTemplate.from_messages([\n",
        "            (\"system\", \"You are a self-improving AI assistant. Learn from your interactions and improve your performance over time. apenas responda em pt-br\"),\n",
        "            MessagesPlaceholder(variable_name=\"history\"),\n",
        "            (\"human\", \"{input}\"),\n",
        "            (\"system\", \"Recent insights for response improvement: {insights}\")\n",
        "        ])\n",
        "\n",
        "        self.chain = self.prompt | self.llm\n",
        "        self.chain_with_history = RunnableWithMessageHistory(\n",
        "            self.chain,\n",
        "            lambda session_id: get_chat_history(self.store, session_id),\n",
        "            input_messages_key=\"input\",\n",
        "            history_messages_key=\"history\"\n",
        "        )\n",
        "\n",
        "    def respond(self, human_input: str, session_id: str):\n",
        "        return generate_response(self.chain_with_history, human_input, session_id, self.insights)\n",
        "\n",
        "    def reflect(self, session_id: str):\n",
        "        self.insights = reflect(self.llm, self.store, session_id)\n",
        "        return self.insights\n",
        "\n",
        "    def learn(self, session_id: str):\n",
        "        self.reflect(session_id)\n",
        "        return learn(self.llm, self.store, session_id, self.insights)\n"
      ],
      "metadata": {
        "id": "VTAQmajNhEj_"
      },
      "execution_count": 27,
      "outputs": []
    },
    {
      "cell_type": "markdown",
      "source": [
        "### **Hora de testar!**"
      ],
      "metadata": {
        "id": "dhU-0SGllwGA"
      }
    },
    {
      "cell_type": "code",
      "source": [
        "agent = SelfImprovingAgent()\n",
        "session_id = \"user_123\"\n",
        "\n",
        "\n",
        "# 1 interação\n",
        "print(\"AI:\", agent.respond(\"What's the capital of Brazil?\", session_id))\n",
        "\n",
        "# 2 interação\n",
        "print(\"AI:\", agent.respond(\"Can you tell me more about its history?\", session_id))\n",
        "\n",
        "# interação Learn and improve\n",
        "print(\"\\nReflecting and learning...\")\n",
        "learned = agent.learn(session_id)\n",
        "print(\"Learned:\", learned)\n",
        "\n",
        "#3 interação (potentially improved based on learning)\n",
        "print(\"\\nAI:\", agent.respond(\"qual a capital do brasil?\", session_id))\n",
        "\n",
        "#4 interação (to demonstrate continued improvement)\n",
        "print(\"AI:\", agent.respond(\"What's another interesting fact about this city?\", session_id))\n",
        "\n",
        "#5 interação (to demonstrate continued improvement)\n",
        "print(\"AI:\", agent.respond(\"me diga as maiores curiosidades?\", session_id))\n"
      ],
      "metadata": {
        "id": "-wfFSUaDhm7i",
        "outputId": "77fdd51c-016f-4521-fcca-09b670319225",
        "colab": {
          "base_uri": "https://localhost:8080/"
        }
      },
      "execution_count": 29,
      "outputs": [
        {
          "output_type": "stream",
          "name": "stdout",
          "text": [
            "AI: A capital do Brasil é Brasília.\n",
            "AI: Brasília é a capital do Brasil desde 1960. Foi projetada e construída para ser a capital do país, substituindo a então capital, Rio de Janeiro. A cidade foi inaugurada em 21 de abril de 1960, e desde então tem se tornado um importante centro político, cultural e econômico do país.\n",
            "\n",
            "Reflecting and learning...\n",
            "Learned: 1. Improve response clarity: Ensure that responses are detailed and clear, providing enough context for users to understand the information.\n",
            "\n",
            "2. Use simpler language: Utilize simpler language or provide translations to make information accessible to a wider audience.\n",
            "\n",
            "3. Add more relevant information: Include comprehensive details about the topic, such as history, cultural significance, or its role in a particular context.\n",
            "\n",
            "4. Consider user's perspective: Tailor responses based on the user's interests and perspective to make them more relevant and engaging.\n",
            "\n",
            "5. Provide context: Ensure that responses include necessary context to help users understand the information better.\n",
            "\n",
            "6. Be concise: Keep responses concise and to the point, avoiding unnecessary details that may confuse users.\n",
            "\n",
            "7. Use examples: Include examples or anecdotes to illustrate the point being made, making the information more relatable and easier to understand.\n",
            "\n",
            "8. Encourage further learning: Encourage users to explore the topic further by providing additional resources or suggesting related topics of interest.\n",
            "\n",
            "9. Maintain accuracy: Ensure that all information provided is accurate and up-to-date, avoiding any outdated or incorrect information.\n",
            "\n",
            "10. Engage with users: Respond in a friendly and engaging manner, encouraging users to ask more questions and interact with the information provided.\n",
            "\n",
            "AI: A capital do Brasil é Brasília. Brasília é a capital do Brasil desde 1960. Foi projetada e construída para ser a capital do país, substituindo a então capital, Rio de Janeiro. A cidade foi inaugurada em 21 de abril de 1960, e desde então tem se tornado um importante centro político, cultural e econômico do país.\n",
            "AI: Uma outra curiosidade interessante sobre Brasília é que a cidade foi projetada para ser vista de cima, como um avião. Isso é fácil de notar, pois a cidade tem um design em forma de avião, com ruas e avenidas projetadas para lembrar as asas de um avião. Além disso, a arquitetura da cidade é muito moderna e única, com prédios projetados por arquitetos famosos como Oscar Niemeyer.\n",
            "AI: Uma das maiores curiosidades sobre Brasília é que a cidade foi projetada e construída em apenas 41 meses, entre 1956 e 1960. Outra curiosidade é que a cidade é considerada um Patrimônio Mundial da UNESCO desde 1987, devido à sua arquitetura moderna e ao planejamento urbanístico inovador. Além disso, Brasília é a única cidade capital do mundo que não é a maior cidade do país, pois o Rio de Janeiro é a maior cidade do Brasil.\n"
          ]
        }
      ]
    },
    {
      "cell_type": "code",
      "source": [],
      "metadata": {
        "id": "fDyP0SKaho78"
      },
      "execution_count": null,
      "outputs": []
    }
  ],
  "metadata": {
    "colab": {
      "name": "Olá, este é o Colaboratory",
      "provenance": [],
      "include_colab_link": true
    },
    "kernelspec": {
      "display_name": "Python 3",
      "name": "python3"
    }
  },
  "nbformat": 4,
  "nbformat_minor": 0
}